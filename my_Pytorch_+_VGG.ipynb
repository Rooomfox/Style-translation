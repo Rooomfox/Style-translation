{
  "nbformat": 4,
  "nbformat_minor": 0,
  "metadata": {
    "colab": {
      "provenance": []
    },
    "kernelspec": {
      "name": "python3",
      "display_name": "Python 3"
    },
    "language_info": {
      "name": "python"
    }
  },
  "cells": [
    {
      "cell_type": "code",
      "execution_count": null,
      "metadata": {
        "id": "2cFR7i16If6l"
      },
      "outputs": [],
      "source": [
        "import torch\n",
        "import tensorflow as f\n",
        "\n",
        "import torchvision\n",
        "import torchvision.transforms as transforms\n",
        "\n",
        "import torch.nn as nn\n",
        "import torch.nn.functional as F"
      ]
    },
    {
      "cell_type": "code",
      "source": [
        "!pip install q torchinfo\n",
        "\n",
        "from torchinfo import summary"
      ],
      "metadata": {
        "colab": {
          "base_uri": "https://localhost:8080/"
        },
        "id": "EPaL1d4FiW7O",
        "outputId": "341f91b3-2436-42ef-d2d4-97118c5929c1"
      },
      "execution_count": null,
      "outputs": [
        {
          "output_type": "stream",
          "name": "stdout",
          "text": [
            "Looking in indexes: https://pypi.org/simple, https://us-python.pkg.dev/colab-wheels/public/simple/\n",
            "Collecting q\n",
            "  Downloading q-2.7-py2.py3-none-any.whl (10 kB)\n",
            "Collecting torchinfo\n",
            "  Downloading torchinfo-1.8.0-py3-none-any.whl (23 kB)\n",
            "Installing collected packages: q, torchinfo\n",
            "Successfully installed q-2.7 torchinfo-1.8.0\n"
          ]
        }
      ]
    },
    {
      "cell_type": "code",
      "source": [
        "class LogisticRegression(nn.Module):\n",
        "  def __init__(self, in_channels):\n",
        "    super().__init__()\n",
        "\n",
        "    self.log_reg = nn.Sequential(\n",
        "        nn.Linear(in_channels, 1),\n",
        "        nn.Sigmoid()\n",
        "    )\n",
        "\n",
        "  def forward(self, x):\n",
        "    return self.log_reg(x)"
      ],
      "metadata": {
        "id": "fVMJF2-ticQR"
      },
      "execution_count": null,
      "outputs": []
    },
    {
      "cell_type": "code",
      "source": [
        "model = LogisticRegression(3)\n",
        "\n",
        "criterion = nn.BCELoss()\n",
        "optimizer = torch.optim.SGD(model.parameters(), lr = 0.01)\n",
        "\n",
        "n_epoches = 10\n",
        "\n",
        "x = torch.randn((1, 3)) ## (1,3) * (3,1) => (1,1)\n",
        "y = torch.randn((1, 1 ))\n",
        "\n",
        "for _ in range(n_epoches):\n",
        "  optimizer.zero_grad()\n",
        "\n",
        "  y_pred = model(x)\n",
        "\n",
        "  loss = criterion(y_pred, y)\n",
        "\n",
        "  loss.backward()\n",
        "  optimizer.step() ## x = x - lr * gradient(x)\n"
      ],
      "metadata": {
        "id": "pyjWfn-rjKA8"
      },
      "execution_count": null,
      "outputs": []
    },
    {
      "cell_type": "code",
      "source": [
        "class VGG(nn.Module):\n",
        "  def __init__(self, num_class = 10, model_type = 'VGG19'):\n",
        "    super().__init__()\n",
        "\n",
        "    self.conv_arch = {\"VGG11\": [(1,64),(1,128),(2,256), (2,512), (2,512)],\n",
        "                      \"VGG19\": [(2,64),(2,128),(4,256), (4,512), (4,512)],\n",
        "                      'VGG16': [(2,64),(2,128),(3,256), (3,512), (3,512)]} # ASSIGNMENT\n",
        "\n",
        "    self.num_class = num_class\n",
        "    self.model_type = model_type\n",
        "\n",
        "    self.layer = self.make_layers(self.model_type)\n",
        "\n",
        "\n",
        "  def VGG_block(self, num_conv, in_channels, out_channels ):\n",
        "    layers = []\n",
        "\n",
        "    for _ in range(num_conv):\n",
        "      layers.append( nn.Conv2d(in_channels, out_channels, kernel_size = 3, stride = 1, padding = 1))\n",
        "      layers.append( nn.ReLU() )\n",
        "      in_channels = out_channels\n",
        "\n",
        "    layers.append(nn.MaxPool2d(kernel_size = 2, stride = 2))\n",
        "\n",
        "    return nn.Sequential(*layers)\n",
        "\n",
        "\n",
        "  def make_layers(self, type):\n",
        "    conv_blocks = []\n",
        "\n",
        "    in_channels = 3 # (batchsize , 3 , height = 224 ,width = 224) 112 56 28 14 7\n",
        "\n",
        "    for (num_convs , out_channels) in self.conv_arch[type]:\n",
        "      conv_blocks.append( self.VGG_block(num_convs, in_channels, out_channels))\n",
        "      in_channels = out_channels\n",
        "\n",
        "\n",
        "    layers = nn.Sequential(\n",
        "        *conv_blocks,\n",
        "        nn.Flatten(),\n",
        "        nn.Linear(out_channels * 7 * 7, 4096),\n",
        "        nn.ReLU(),\n",
        "        nn.Dropout(0.5),\n",
        "        nn.Linear(4096, 4096),\n",
        "        nn.ReLU(),\n",
        "        nn.Dropout(0.5),\n",
        "        nn.Linear(4096, self.num_class)\n",
        "    )\n",
        "\n",
        "    return layers\n",
        "\n",
        "\n",
        "  def forward(self, x):\n",
        "    return self.layer(x)\n",
        "\n",
        "\n"
      ],
      "metadata": {
        "id": "2eb8BZtkjhGg"
      },
      "execution_count": null,
      "outputs": []
    },
    {
      "cell_type": "code",
      "source": [
        "model = VGG(10, model_type = 'VGG16')\n",
        "model"
      ],
      "metadata": {
        "colab": {
          "base_uri": "https://localhost:8080/"
        },
        "id": "-XN_hsobk-K8",
        "outputId": "a13b21f0-128c-4de3-acb9-3161da533784"
      },
      "execution_count": null,
      "outputs": [
        {
          "output_type": "execute_result",
          "data": {
            "text/plain": [
              "VGG(\n",
              "  (layer): Sequential(\n",
              "    (0): Sequential(\n",
              "      (0): Conv2d(3, 64, kernel_size=(3, 3), stride=(1, 1), padding=(1, 1))\n",
              "      (1): ReLU()\n",
              "      (2): Conv2d(64, 64, kernel_size=(3, 3), stride=(1, 1), padding=(1, 1))\n",
              "      (3): ReLU()\n",
              "      (4): MaxPool2d(kernel_size=2, stride=2, padding=0, dilation=1, ceil_mode=False)\n",
              "    )\n",
              "    (1): Sequential(\n",
              "      (0): Conv2d(64, 128, kernel_size=(3, 3), stride=(1, 1), padding=(1, 1))\n",
              "      (1): ReLU()\n",
              "      (2): Conv2d(128, 128, kernel_size=(3, 3), stride=(1, 1), padding=(1, 1))\n",
              "      (3): ReLU()\n",
              "      (4): MaxPool2d(kernel_size=2, stride=2, padding=0, dilation=1, ceil_mode=False)\n",
              "    )\n",
              "    (2): Sequential(\n",
              "      (0): Conv2d(128, 256, kernel_size=(3, 3), stride=(1, 1), padding=(1, 1))\n",
              "      (1): ReLU()\n",
              "      (2): Conv2d(256, 256, kernel_size=(3, 3), stride=(1, 1), padding=(1, 1))\n",
              "      (3): ReLU()\n",
              "      (4): Conv2d(256, 256, kernel_size=(3, 3), stride=(1, 1), padding=(1, 1))\n",
              "      (5): ReLU()\n",
              "      (6): MaxPool2d(kernel_size=2, stride=2, padding=0, dilation=1, ceil_mode=False)\n",
              "    )\n",
              "    (3): Sequential(\n",
              "      (0): Conv2d(256, 512, kernel_size=(3, 3), stride=(1, 1), padding=(1, 1))\n",
              "      (1): ReLU()\n",
              "      (2): Conv2d(512, 512, kernel_size=(3, 3), stride=(1, 1), padding=(1, 1))\n",
              "      (3): ReLU()\n",
              "      (4): Conv2d(512, 512, kernel_size=(3, 3), stride=(1, 1), padding=(1, 1))\n",
              "      (5): ReLU()\n",
              "      (6): MaxPool2d(kernel_size=2, stride=2, padding=0, dilation=1, ceil_mode=False)\n",
              "    )\n",
              "    (4): Sequential(\n",
              "      (0): Conv2d(512, 512, kernel_size=(3, 3), stride=(1, 1), padding=(1, 1))\n",
              "      (1): ReLU()\n",
              "      (2): Conv2d(512, 512, kernel_size=(3, 3), stride=(1, 1), padding=(1, 1))\n",
              "      (3): ReLU()\n",
              "      (4): Conv2d(512, 512, kernel_size=(3, 3), stride=(1, 1), padding=(1, 1))\n",
              "      (5): ReLU()\n",
              "      (6): MaxPool2d(kernel_size=2, stride=2, padding=0, dilation=1, ceil_mode=False)\n",
              "    )\n",
              "    (5): Flatten(start_dim=1, end_dim=-1)\n",
              "    (6): Linear(in_features=25088, out_features=4096, bias=True)\n",
              "    (7): ReLU()\n",
              "    (8): Dropout(p=0.5, inplace=False)\n",
              "    (9): Linear(in_features=4096, out_features=4096, bias=True)\n",
              "    (10): ReLU()\n",
              "    (11): Dropout(p=0.5, inplace=False)\n",
              "    (12): Linear(in_features=4096, out_features=10, bias=True)\n",
              "  )\n",
              ")"
            ]
          },
          "metadata": {},
          "execution_count": 13
        }
      ]
    },
    {
      "cell_type": "code",
      "source": [
        "model = VGG(10, model_type = 'VGG16')\n",
        "\n",
        "test_img = torch.randn((1,3, 224, 224 ))\n",
        "print(test_img.shape)"
      ],
      "metadata": {
        "colab": {
          "base_uri": "https://localhost:8080/"
        },
        "id": "m5C0eFAfoh4K",
        "outputId": "ce6a2a9c-d011-4a8f-c6ff-036d3f1d4849"
      },
      "execution_count": null,
      "outputs": [
        {
          "output_type": "stream",
          "name": "stdout",
          "text": [
            "torch.Size([1, 3, 224, 224])\n"
          ]
        }
      ]
    },
    {
      "cell_type": "code",
      "source": [
        "model(test_img).shape"
      ],
      "metadata": {
        "colab": {
          "base_uri": "https://localhost:8080/"
        },
        "id": "0SpugALQpf9o",
        "outputId": "ddf95c8f-a42c-4f10-8fc5-15b700a4b060"
      },
      "execution_count": null,
      "outputs": [
        {
          "output_type": "execute_result",
          "data": {
            "text/plain": [
              "torch.Size([1, 10])"
            ]
          },
          "metadata": {},
          "execution_count": 18
        }
      ]
    },
    {
      "cell_type": "code",
      "source": [
        "summary( model = VGG(10,model_type = 'VGG16'),\n",
        "         input_size = (1,3,224,224),\n",
        "        col_names = ['input_size', 'output_size', 'num_params', 'trainable'],\n",
        "        row_settings = ['var_names'])"
      ],
      "metadata": {
        "colab": {
          "base_uri": "https://localhost:8080/"
        },
        "id": "s2e1I8Gsp1wk",
        "outputId": "fe3643ae-be08-44cf-ea3b-b1d2fff2c2d7"
      },
      "execution_count": null,
      "outputs": [
        {
          "output_type": "execute_result",
          "data": {
            "text/plain": [
              "============================================================================================================================================\n",
              "Layer (type (var_name))                  Input Shape               Output Shape              Param #                   Trainable\n",
              "============================================================================================================================================\n",
              "VGG (VGG)                                [1, 3, 224, 224]          [1, 10]                   --                        True\n",
              "├─Sequential (layer)                     [1, 3, 224, 224]          [1, 10]                   --                        True\n",
              "│    └─Sequential (0)                    [1, 3, 224, 224]          [1, 64, 112, 112]         --                        True\n",
              "│    │    └─Conv2d (0)                   [1, 3, 224, 224]          [1, 64, 224, 224]         1,792                     True\n",
              "│    │    └─ReLU (1)                     [1, 64, 224, 224]         [1, 64, 224, 224]         --                        --\n",
              "│    │    └─Conv2d (2)                   [1, 64, 224, 224]         [1, 64, 224, 224]         36,928                    True\n",
              "│    │    └─ReLU (3)                     [1, 64, 224, 224]         [1, 64, 224, 224]         --                        --\n",
              "│    │    └─MaxPool2d (4)                [1, 64, 224, 224]         [1, 64, 112, 112]         --                        --\n",
              "│    └─Sequential (1)                    [1, 64, 112, 112]         [1, 128, 56, 56]          --                        True\n",
              "│    │    └─Conv2d (0)                   [1, 64, 112, 112]         [1, 128, 112, 112]        73,856                    True\n",
              "│    │    └─ReLU (1)                     [1, 128, 112, 112]        [1, 128, 112, 112]        --                        --\n",
              "│    │    └─Conv2d (2)                   [1, 128, 112, 112]        [1, 128, 112, 112]        147,584                   True\n",
              "│    │    └─ReLU (3)                     [1, 128, 112, 112]        [1, 128, 112, 112]        --                        --\n",
              "│    │    └─MaxPool2d (4)                [1, 128, 112, 112]        [1, 128, 56, 56]          --                        --\n",
              "│    └─Sequential (2)                    [1, 128, 56, 56]          [1, 256, 28, 28]          --                        True\n",
              "│    │    └─Conv2d (0)                   [1, 128, 56, 56]          [1, 256, 56, 56]          295,168                   True\n",
              "│    │    └─ReLU (1)                     [1, 256, 56, 56]          [1, 256, 56, 56]          --                        --\n",
              "│    │    └─Conv2d (2)                   [1, 256, 56, 56]          [1, 256, 56, 56]          590,080                   True\n",
              "│    │    └─ReLU (3)                     [1, 256, 56, 56]          [1, 256, 56, 56]          --                        --\n",
              "│    │    └─Conv2d (4)                   [1, 256, 56, 56]          [1, 256, 56, 56]          590,080                   True\n",
              "│    │    └─ReLU (5)                     [1, 256, 56, 56]          [1, 256, 56, 56]          --                        --\n",
              "│    │    └─MaxPool2d (6)                [1, 256, 56, 56]          [1, 256, 28, 28]          --                        --\n",
              "│    └─Sequential (3)                    [1, 256, 28, 28]          [1, 512, 14, 14]          --                        True\n",
              "│    │    └─Conv2d (0)                   [1, 256, 28, 28]          [1, 512, 28, 28]          1,180,160                 True\n",
              "│    │    └─ReLU (1)                     [1, 512, 28, 28]          [1, 512, 28, 28]          --                        --\n",
              "│    │    └─Conv2d (2)                   [1, 512, 28, 28]          [1, 512, 28, 28]          2,359,808                 True\n",
              "│    │    └─ReLU (3)                     [1, 512, 28, 28]          [1, 512, 28, 28]          --                        --\n",
              "│    │    └─Conv2d (4)                   [1, 512, 28, 28]          [1, 512, 28, 28]          2,359,808                 True\n",
              "│    │    └─ReLU (5)                     [1, 512, 28, 28]          [1, 512, 28, 28]          --                        --\n",
              "│    │    └─MaxPool2d (6)                [1, 512, 28, 28]          [1, 512, 14, 14]          --                        --\n",
              "│    └─Sequential (4)                    [1, 512, 14, 14]          [1, 512, 7, 7]            --                        True\n",
              "│    │    └─Conv2d (0)                   [1, 512, 14, 14]          [1, 512, 14, 14]          2,359,808                 True\n",
              "│    │    └─ReLU (1)                     [1, 512, 14, 14]          [1, 512, 14, 14]          --                        --\n",
              "│    │    └─Conv2d (2)                   [1, 512, 14, 14]          [1, 512, 14, 14]          2,359,808                 True\n",
              "│    │    └─ReLU (3)                     [1, 512, 14, 14]          [1, 512, 14, 14]          --                        --\n",
              "│    │    └─Conv2d (4)                   [1, 512, 14, 14]          [1, 512, 14, 14]          2,359,808                 True\n",
              "│    │    └─ReLU (5)                     [1, 512, 14, 14]          [1, 512, 14, 14]          --                        --\n",
              "│    │    └─MaxPool2d (6)                [1, 512, 14, 14]          [1, 512, 7, 7]            --                        --\n",
              "│    └─Flatten (5)                       [1, 512, 7, 7]            [1, 25088]                --                        --\n",
              "│    └─Linear (6)                        [1, 25088]                [1, 4096]                 102,764,544               True\n",
              "│    └─ReLU (7)                          [1, 4096]                 [1, 4096]                 --                        --\n",
              "│    └─Dropout (8)                       [1, 4096]                 [1, 4096]                 --                        --\n",
              "│    └─Linear (9)                        [1, 4096]                 [1, 4096]                 16,781,312                True\n",
              "│    └─ReLU (10)                         [1, 4096]                 [1, 4096]                 --                        --\n",
              "│    └─Dropout (11)                      [1, 4096]                 [1, 4096]                 --                        --\n",
              "│    └─Linear (12)                       [1, 4096]                 [1, 10]                   40,970                    True\n",
              "============================================================================================================================================\n",
              "Total params: 134,301,514\n",
              "Trainable params: 134,301,514\n",
              "Non-trainable params: 0\n",
              "Total mult-adds (G): 15.48\n",
              "============================================================================================================================================\n",
              "Input size (MB): 0.60\n",
              "Forward/backward pass size (MB): 108.45\n",
              "Params size (MB): 537.21\n",
              "Estimated Total Size (MB): 646.25\n",
              "============================================================================================================================================"
            ]
          },
          "metadata": {},
          "execution_count": 19
        }
      ]
    },
    {
      "cell_type": "code",
      "source": [],
      "metadata": {
        "id": "7bHsoy8SqIv1"
      },
      "execution_count": null,
      "outputs": []
    }
  ]
}